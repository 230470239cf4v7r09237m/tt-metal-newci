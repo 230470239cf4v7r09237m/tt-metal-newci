{
 "cells": [
  {
   "cell_type": "code",
   "execution_count": 51,
   "metadata": {},
   "outputs": [
    {
     "name": "stderr",
     "output_type": "stream",
     "text": [
      "  2%|▏         | 21/1000 [00:00<00:04, 203.16it/s]"
     ]
    },
    {
     "name": "stderr",
     "output_type": "stream",
     "text": [
      "100%|██████████| 1000/1000 [00:04<00:00, 202.32it/s]\n"
     ]
    },
    {
     "name": "stdout",
     "output_type": "stream",
     "text": [
      "Operation: top_k_top_p_filtering, Batch Size: 1, Avg Time: 4.89ms, Min Time: 4.83ms, Max Time: 5.10ms\n"
     ]
    },
    {
     "name": "stderr",
     "output_type": "stream",
     "text": [
      "100%|██████████| 1000/1000 [00:07<00:00, 135.83it/s]\n"
     ]
    },
    {
     "name": "stdout",
     "output_type": "stream",
     "text": [
      "Operation: top_k_top_p_filtering, Batch Size: 2, Avg Time: 7.31ms, Min Time: 6.31ms, Max Time: 8.53ms\n"
     ]
    },
    {
     "name": "stderr",
     "output_type": "stream",
     "text": [
      "100%|██████████| 1000/1000 [00:07<00:00, 127.15it/s]\n"
     ]
    },
    {
     "name": "stdout",
     "output_type": "stream",
     "text": [
      "Operation: top_k_top_p_filtering, Batch Size: 4, Avg Time: 7.77ms, Min Time: 6.21ms, Max Time: 9.70ms\n"
     ]
    },
    {
     "name": "stderr",
     "output_type": "stream",
     "text": [
      "100%|██████████| 1000/1000 [00:07<00:00, 140.71it/s]\n"
     ]
    },
    {
     "name": "stdout",
     "output_type": "stream",
     "text": [
      "Operation: top_k_top_p_filtering, Batch Size: 8, Avg Time: 7.00ms, Min Time: 6.14ms, Max Time: 8.45ms\n"
     ]
    },
    {
     "name": "stderr",
     "output_type": "stream",
     "text": [
      "100%|██████████| 1000/1000 [00:08<00:00, 121.58it/s]\n"
     ]
    },
    {
     "name": "stdout",
     "output_type": "stream",
     "text": [
      "Operation: top_k_top_p_filtering, Batch Size: 16, Avg Time: 8.10ms, Min Time: 7.59ms, Max Time: 8.85ms\n"
     ]
    },
    {
     "name": "stderr",
     "output_type": "stream",
     "text": [
      "100%|██████████| 1000/1000 [00:14<00:00, 70.68it/s]\n"
     ]
    },
    {
     "name": "stdout",
     "output_type": "stream",
     "text": [
      "Operation: top_k_top_p_filtering, Batch Size: 32, Avg Time: 13.98ms, Min Time: 11.55ms, Max Time: 15.67ms\n"
     ]
    },
    {
     "data": {
      "image/png": "[encoded data removed]",
      "text/plain": [
       "<Figure size 640x480 with 1 Axes>"
      ]
     },
     "metadata": {},
     "output_type": "display_data"
    }
   ],
   "source": [
    "import torch\n",
    "from transformers.generation.utils import top_k_top_p_filtering\n",
    "\n",
    "batch_sizes = [1, 2, 4, 8, 16, 32]\n",
    "ops = [top_k_top_p_filtering]\n",
    "\n",
    "input_tensor_shape = (32, 128 * 1024)\n",
    "in_t = torch.randn(input_tensor_shape)\n",
    "# Apply softmax to get probabilities\n",
    "in_t = torch.nn.functional.softmax(in_t, dim=-1)\n",
    "\n",
    "# Iterate over batch size and then over ops \n",
    "# to run 1000 times and calculate avg, min and max time taken\n",
    "from time import time\n",
    "import matplotlib.pyplot as plt\n",
    "from tqdm import tqdm\n",
    "# create dictionary for each operation and batch size to store avg times\n",
    "avg_times = {op.__name__: {batch_size: [] for batch_size in batch_sizes} for op in ops}\n",
    "for op in ops:\n",
    "    for batch_size in batch_sizes:\n",
    "        times = []\n",
    "        for _ in tqdm(range(1000)):\n",
    "            sliced_input = in_t[:batch_size]\n",
    "            start = time()\n",
    "            if op.__name__ == 'top_k_top_p_filtering':\n",
    "                op(sliced_input, top_k=32, top_p=0.95)\n",
    "            else:\n",
    "                op(sliced_input, dim=-1)\n",
    "            end = time()\n",
    "            times.append((end - start)*1000)\n",
    "        # print results with 2 decimal places\n",
    "        # plot times as points for each batch size and operation\n",
    "        plt.scatter([batch_size] * len(times), times, label=op.__name__)\n",
    "        # calculate avg after removing outliers and print\n",
    "        # remove top and bottom 5%\n",
    "        times.sort()\n",
    "        times = times[len(times)//20:-len(times)//20]\n",
    "        \n",
    "        print(f\"Operation: {op.__name__}, Batch Size: {batch_size}, Avg Time: {sum(times) / len(times):.2f}ms, Min Time: {min(times):.2f}ms, Max Time: {max(times):.2f}ms\")\n",
    "        avg_times[op.__name__][batch_size] = sum(times) / len(times)\n",
    "        # plt.plot(batch_sizes, times, label=op.__name__)\n",
    "        # plt.legend()\n",
    "\n",
    "# plot avg times with legend with name of axis and exact values for x axis\n",
    "# add legend for each operation and names for x and y axis\n",
    "plt.xlabel('Batch Size')\n",
    "plt.ylabel('Time (ms)')\n",
    "# annotate ops in legend with their names and respective colors\n",
    "for op in ops:\n",
    "    plt.plot(batch_sizes, [avg_times[op.__name__][batch_size] for batch_size in batch_sizes], label=op.__name__)\n",
    "    # show legends for each operation and respective color \n",
    "    # plt.legend()\n",
    "# plt.plot(batch_sizes, [avg_times[op.__name__][batch_size] for op in ops for batch_size in batch_sizes], label=op.__name__)\n",
    "# print table of avg times for each operation and batch size\n",
    "plt.show()\n",
    "# print(avg_times)\n",
    "# print(avg_times['top_k_top_p_filtering'])\n",
    "# print(avg_times['torch.argmax'])\n",
    "# print(avg_times['torch.argmax'][1])\n",
    "# print as table with batch size as rows and operations as columns\n",
    "# print('Batch Size', end='\\t')\n",
    "# for op in ops:\n",
    "#     print(op.__name__, end='\\t')\n",
    "# print()\n",
    "# for batch_size in batch_sizes:\n",
    "#     print(batch_size, end='\\t')\n",
    "#     for op in ops:\n",
    "#         print(avg_times[op.__name__][batch_size], end='\\t')\n",
    "#     print()\n",
    "\n"
   ]
  },
  {
   "cell_type": "code",
   "execution_count": null,
   "metadata": {},
   "outputs": [],
   "source": []
  },
  {
   "cell_type": "code",
   "execution_count": null,
   "metadata": {},
   "outputs": [],
   "source": []
  }
 ],
 "metadata": {
  "kernelspec": {
   "display_name": "python_env",
   "language": "python",
   "name": "python3"
  },
  "language_info": {
   "codemirror_mode": {
    "name": "ipython",
    "version": 3
   },
   "file_extension": ".py",
   "mimetype": "text/x-python",
   "name": "python",
   "nbconvert_exporter": "python",
   "pygments_lexer": "ipython3",
   "version": "3.8.10"
  }
 },
 "nbformat": 4,
 "nbformat_minor": 2
}
